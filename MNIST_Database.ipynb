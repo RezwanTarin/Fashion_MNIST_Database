{
  "nbformat": 4,
  "nbformat_minor": 0,
  "metadata": {
    "colab": {
      "name": "Assignment1.ipynb",
      "provenance": [],
      "collapsed_sections": []
    },
    "kernelspec": {
      "name": "python3",
      "display_name": "Python 3"
    }
  },
  "cells": [
    {
      "cell_type": "code",
      "metadata": {
        "id": "WecQ4kUnhr7a"
      },
      "source": [
        "#Rezwan Tarin\n",
        "#101198704\n",
        "#Assignment One \n",
        "from keras.datasets import fashion_mnist"
      ],
      "execution_count": 3,
      "outputs": []
    },
    {
      "cell_type": "code",
      "metadata": {
        "id": "uKHRbZCXhttS"
      },
      "source": [
        "# Helper libraries\n",
        "import numpy as np\n",
        "import matplotlib.pyplot as plt"
      ],
      "execution_count": 4,
      "outputs": []
    },
    {
      "cell_type": "code",
      "metadata": {
        "id": "5v2Hep94hxxy",
        "colab": {
          "base_uri": "https://localhost:8080/"
        },
        "outputId": "bc2f957d-de0c-43ec-a3af-1b37b33079eb"
      },
      "source": [
        "(train_images, train_labels), (test_images, test_labels) = fashion_mnist.load_data()"
      ],
      "execution_count": 5,
      "outputs": [
        {
          "output_type": "stream",
          "text": [
            "Downloading data from https://storage.googleapis.com/tensorflow/tf-keras-datasets/train-labels-idx1-ubyte.gz\n",
            "32768/29515 [=================================] - 0s 0us/step\n",
            "Downloading data from https://storage.googleapis.com/tensorflow/tf-keras-datasets/train-images-idx3-ubyte.gz\n",
            "26427392/26421880 [==============================] - 0s 0us/step\n",
            "Downloading data from https://storage.googleapis.com/tensorflow/tf-keras-datasets/t10k-labels-idx1-ubyte.gz\n",
            "8192/5148 [===============================================] - 0s 0us/step\n",
            "Downloading data from https://storage.googleapis.com/tensorflow/tf-keras-datasets/t10k-images-idx3-ubyte.gz\n",
            "4423680/4422102 [==============================] - 0s 0us/step\n"
          ],
          "name": "stdout"
        }
      ]
    },
    {
      "cell_type": "code",
      "metadata": {
        "id": "Ty1GO0hhhz22"
      },
      "source": [
        "# Since class name is not included in the dataset I name it here so I can identify later\n",
        "class_names = ['T-shirt/top', 'Trouser', 'Pullover', 'Dress', 'Coat',\n",
        "               'Sandal', 'Shirt', 'Sneaker', 'Bag', 'Ankle boot']"
      ],
      "execution_count": 6,
      "outputs": []
    },
    {
      "cell_type": "code",
      "metadata": {
        "colab": {
          "base_uri": "https://localhost:8080/"
        },
        "id": "QkXAiPVdj9k6",
        "outputId": "3d24a4a3-4b1e-4b31-96ac-950444f44bf7"
      },
      "source": [
        "#Q1 Dimensions\n",
        "print(train_images.ndim)"
      ],
      "execution_count": null,
      "outputs": [
        {
          "output_type": "stream",
          "text": [
            "3\n"
          ],
          "name": "stdout"
        }
      ]
    },
    {
      "cell_type": "code",
      "metadata": {
        "colab": {
          "base_uri": "https://localhost:8080/"
        },
        "id": "vIYb0bxklMDU",
        "outputId": "cc86827b-63b0-43c2-885e-3e8686480fda"
      },
      "source": [
        "#Q1 Dimensions\n",
        "print(train_labels.ndim)"
      ],
      "execution_count": null,
      "outputs": [
        {
          "output_type": "stream",
          "text": [
            "1\n"
          ],
          "name": "stdout"
        }
      ]
    },
    {
      "cell_type": "code",
      "metadata": {
        "colab": {
          "base_uri": "https://localhost:8080/"
        },
        "id": "jWqHB2LKlPZ-",
        "outputId": "43b597ed-758a-42b4-a1cf-7e1d671086c8"
      },
      "source": [
        "#Q1 Dimensions\n",
        "print(test_images.ndim)"
      ],
      "execution_count": null,
      "outputs": [
        {
          "output_type": "stream",
          "text": [
            "3\n"
          ],
          "name": "stdout"
        }
      ]
    },
    {
      "cell_type": "code",
      "metadata": {
        "colab": {
          "base_uri": "https://localhost:8080/"
        },
        "id": "PlAgw2Ojl-i4",
        "outputId": "259fd082-faca-4e73-8170-6bfbb31944ca"
      },
      "source": [
        "#Q1 Dimensions\n",
        "print(test_labels.ndim)"
      ],
      "execution_count": null,
      "outputs": [
        {
          "output_type": "stream",
          "text": [
            "1\n"
          ],
          "name": "stdout"
        }
      ]
    },
    {
      "cell_type": "code",
      "metadata": {
        "colab": {
          "base_uri": "https://localhost:8080/"
        },
        "id": "VFn3DQwpmB1G",
        "outputId": "26c95ff7-c9f1-48a2-c57b-73bf2b8e8162"
      },
      "source": [
        "# Q2 lengths\n",
        "len(train_labels)"
      ],
      "execution_count": null,
      "outputs": [
        {
          "output_type": "execute_result",
          "data": {
            "text/plain": [
              "60000"
            ]
          },
          "metadata": {
            "tags": []
          },
          "execution_count": 9
        }
      ]
    },
    {
      "cell_type": "code",
      "metadata": {
        "colab": {
          "base_uri": "https://localhost:8080/"
        },
        "id": "yDTyA7JlmS-Y",
        "outputId": "0bbefe92-4eed-4d89-d712-69b67b2ba01f"
      },
      "source": [
        "# Q2 lengths\n",
        "len(test_labels)"
      ],
      "execution_count": null,
      "outputs": [
        {
          "output_type": "execute_result",
          "data": {
            "text/plain": [
              "10000"
            ]
          },
          "metadata": {
            "tags": []
          },
          "execution_count": 10
        }
      ]
    },
    {
      "cell_type": "code",
      "metadata": {
        "colab": {
          "base_uri": "https://localhost:8080/"
        },
        "id": "9nUrdTmnmXe_",
        "outputId": "85aa8fef-f139-417e-b4bc-c2c6e6f9d1d9"
      },
      "source": [
        "#Q3 showing of train and test label as array, it is number between 0 to 9 \n",
        "train_labels"
      ],
      "execution_count": null,
      "outputs": [
        {
          "output_type": "execute_result",
          "data": {
            "text/plain": [
              "array([9, 0, 0, ..., 3, 0, 5], dtype=uint8)"
            ]
          },
          "metadata": {
            "tags": []
          },
          "execution_count": 11
        }
      ]
    },
    {
      "cell_type": "code",
      "metadata": {
        "colab": {
          "base_uri": "https://localhost:8080/"
        },
        "id": "23h8EN_hmm2Q",
        "outputId": "25299bde-0ae4-4fa0-f4c1-add15d9c60a3"
      },
      "source": [
        "#Q3 showing of train and test label as array, it is number between 0 to 9 \n",
        "test_labels"
      ],
      "execution_count": null,
      "outputs": [
        {
          "output_type": "execute_result",
          "data": {
            "text/plain": [
              "array([9, 2, 1, ..., 8, 1, 5], dtype=uint8)"
            ]
          },
          "metadata": {
            "tags": []
          },
          "execution_count": 12
        }
      ]
    },
    {
      "cell_type": "code",
      "metadata": {
        "colab": {
          "base_uri": "https://localhost:8080/"
        },
        "id": "SP-WfSBWuqsn",
        "outputId": "b7e68d60-07ad-4173-dc49-e3129a65f304"
      },
      "source": [
        "# Q4  showing the digits of index 5 \n",
        "train_images[5]"
      ],
      "execution_count": null,
      "outputs": [
        {
          "output_type": "execute_result",
          "data": {
            "text/plain": [
              "array([[  0,   0,   0,   0,   1,   0,   0,   0,   0,  22,  88, 188, 172,\n",
              "        132, 125, 141, 199, 143,   9,   0,   0,   0,   1,   0,   0,   0,\n",
              "          0,   0],\n",
              "       [  0,   0,   0,   1,   0,   0,  20, 131, 199, 206, 196, 202, 242,\n",
              "        255, 255, 250, 222, 197, 206, 188, 126,  17,   0,   0,   0,   0,\n",
              "          0,   0],\n",
              "       [  0,   0,   0,   1,   0,  35, 214, 191, 183, 178, 175, 168, 150,\n",
              "        162, 159, 152, 158, 179, 183, 189, 195, 185,  82,   0,   0,   0,\n",
              "          0,   0],\n",
              "       [  0,   0,   0,   0,   0, 170, 190, 172, 177, 176, 171, 169, 162,\n",
              "        155, 148, 154, 169, 174, 175, 175, 177, 183, 188,  12,   0,   0,\n",
              "          0,   0],\n",
              "       [  0,   0,   0,   0,  25, 194, 180, 178, 174, 184, 187, 189, 187,\n",
              "        184, 181, 189, 200, 197, 193, 190, 178, 175, 194,  90,   0,   0,\n",
              "          0,   0],\n",
              "       [  0,   0,   0,   0,  42, 218, 191, 197, 208, 204, 211, 209, 210,\n",
              "        212, 211, 214, 215, 213, 214, 211, 211, 191, 200, 158,   0,   0,\n",
              "          0,   0],\n",
              "       [  0,   0,   0,   0,  88, 221, 215, 217, 219, 211, 185, 150, 118,\n",
              "        107,  99,  88,  83,  90, 135, 212, 203, 207, 219, 169,   0,   0,\n",
              "          0,   0],\n",
              "       [  0,   0,   0,   0,   0,  27, 118, 162,  40,   0,   0,   0,  10,\n",
              "         19,  28,  39,  47,  36,   0,   0, 203, 230, 220, 203,   0,   0,\n",
              "          0,   0],\n",
              "       [  0,   0,   0,   0, 138, 136,  71,  69,  54, 216, 217, 203, 184,\n",
              "        168, 163, 162, 163, 178, 221, 186,  38,  26,   7,   0,   0,   0,\n",
              "          0,   0],\n",
              "       [  0,   0,   0,   0,  67, 134, 154, 224, 129,  66,  81, 117, 129,\n",
              "        128, 132, 137, 131, 129,  86,  73, 157, 151, 134, 216,  18,   0,\n",
              "          0,   0],\n",
              "       [  0,   0,   0,   0, 203, 198, 172, 183, 206, 255, 255, 250, 243,\n",
              "        240, 239, 235, 238, 244, 255, 238, 184, 160,  86,  98,   0,   0,\n",
              "          0,   0],\n",
              "       [  0,   0,   0,   0, 122, 188, 224, 151, 105, 127,  97, 100, 105,\n",
              "        114, 117, 117, 113, 103,  98, 111, 142, 254, 191, 255,  49,   0,\n",
              "          0,   0],\n",
              "       [  0,   0,   0,   0, 163, 179, 200,  95, 154, 198, 197, 200, 200,\n",
              "        198, 197, 198, 199, 202, 200, 176,  86, 206, 157, 162,  10,   0,\n",
              "          0,   0],\n",
              "       [  0,   0,   0,   0, 197, 201, 229,  71, 144, 194, 181, 183, 179,\n",
              "        182, 180, 179, 180, 190, 185, 197,  76, 219, 185, 201,  34,   0,\n",
              "          0,   0],\n",
              "       [  0,   0,   0,   0, 199, 193, 226,  58, 154, 192, 184, 187, 184,\n",
              "        186, 184, 185, 183, 192, 191, 200,  56, 219, 203, 207,  60,   0,\n",
              "          0,   0],\n",
              "       [  0,   0,   0,   0, 201, 194, 224,  41, 163, 190, 186, 186, 184,\n",
              "        185, 183, 185, 178, 190, 194, 202,  33, 211, 200, 206,  73,   0,\n",
              "          0,   0],\n",
              "       [  0,   0,   0,   0, 201, 197, 222,  17, 172, 190, 186, 187, 182,\n",
              "        186, 185, 187, 180, 187, 193, 202,  26, 212, 202, 203,  76,   0,\n",
              "          0,   0],\n",
              "       [  0,   0,   0,   0, 200, 197, 223,   0, 177, 189, 184, 185, 178,\n",
              "        184, 183, 184, 180, 183, 189, 203,  35, 196, 203, 203,  84,   0,\n",
              "          0,   0],\n",
              "       [  0,   0,   0,   0, 200, 197, 223,   0, 185, 187, 185, 187, 180,\n",
              "        184, 182, 183, 178, 182, 183, 205,  44, 159, 207, 201,  85,   0,\n",
              "          0,   0],\n",
              "       [  0,   0,   0,   0, 187, 198, 225,   0, 194, 188, 184, 185, 180,\n",
              "        183, 183, 184, 181, 181, 177, 206,  46, 129, 211, 200,  88,   0,\n",
              "          0,   0],\n",
              "       [  0,   0,   0,   6, 186, 200, 211,   0, 199, 189, 184, 184, 185,\n",
              "        182, 183, 184, 185, 182, 175, 205,  50,  97, 216, 197,  93,   0,\n",
              "          0,   0],\n",
              "       [  0,   0,   0,   5, 185, 204, 184,   0, 202, 188, 182, 182, 183,\n",
              "        183, 184, 182, 180, 182, 174, 202,  63,  59, 220, 196,  94,   0,\n",
              "          0,   0],\n",
              "       [  0,   0,   0,   5, 184, 206, 157,   0, 204, 187, 187, 189, 192,\n",
              "        190, 190, 191, 190, 187, 183, 202,  78,  35, 222, 197,  95,   0,\n",
              "          0,   0],\n",
              "       [  0,   0,   0,   5, 183, 208, 127,   0, 197, 166, 153, 149, 149,\n",
              "        146, 148, 149, 150, 151, 158, 191,  90,   8, 223, 195,  99,   0,\n",
              "          0,   0],\n",
              "       [  0,   0,   0,   6, 184, 208, 114,   0, 204, 173, 161, 180, 176,\n",
              "        172, 173, 173, 174, 176, 162, 202, 115,   0, 229, 199, 105,   0,\n",
              "          0,   0],\n",
              "       [  0,   0,   0,   9, 178, 204, 115,   0, 121, 135, 114, 117, 114,\n",
              "        114, 117, 118, 119, 117, 113, 147,  63,   0, 225, 196, 107,   0,\n",
              "          0,   0],\n",
              "       [  0,   0,   0,  18, 180, 206, 131,   0,   0,   0,   0,   0,   0,\n",
              "          0,   0,   0,   0,   0,   0,   0,   0,   0, 224, 197, 123,   0,\n",
              "          0,   0],\n",
              "       [  0,   0,   0,   0, 141, 151,  76,   0,   1,   1,   0,   0,   0,\n",
              "          0,   0,   0,   0,   0,   0,   0,   0,   0, 133, 167,  73,   0,\n",
              "          0,   0]], dtype=uint8)"
            ]
          },
          "metadata": {
            "tags": []
          },
          "execution_count": 13
        }
      ]
    },
    {
      "cell_type": "code",
      "metadata": {
        "colab": {
          "base_uri": "https://localhost:8080/",
          "height": 265
        },
        "id": "wfPV7dF9m6jS",
        "outputId": "ff900098-8d04-4b67-a07c-1f159987df2e"
      },
      "source": [
        "# Q5 display image \n",
        "plt.imshow(train_images[5],cmap=plt.cm.binary)\n",
        "plt.show()"
      ],
      "execution_count": null,
      "outputs": [
        {
          "output_type": "display_data",
          "data": {
            "image/png": "[encoded data removed]",
            "text/plain": [
              "<Figure size 432x288 with 1 Axes>"
            ]
          },
          "metadata": {
            "tags": [],
            "needs_background": "light"
          }
        }
      ]
    },
    {
      "cell_type": "code",
      "metadata": {
        "colab": {
          "base_uri": "https://localhost:8080/",
          "height": 279
        },
        "id": "lJyvj0ATnqNt",
        "outputId": "8d32b402-344b-47fb-b759-db20da3f2d0c"
      },
      "source": [
        "# Q6 now we are adding the label to the image\n",
        "plt.imshow(train_images[5],cmap=plt.cm.binary)\n",
        "plt.xlabel(class_names[train_labels[5]])\n",
        "plt.show()"
      ],
      "execution_count": null,
      "outputs": [
        {
          "output_type": "display_data",
          "data": {
            "image/png": "[encoded data removed]",
            "text/plain": [
              "<Figure size 432x288 with 1 Axes>"
            ]
          },
          "metadata": {
            "tags": [],
            "needs_background": "light"
          }
        }
      ]
    },
    {
      "cell_type": "code",
      "metadata": {
        "colab": {
          "base_uri": "https://localhost:8080/"
        },
        "id": "wgLKjg1IzAFX",
        "outputId": "c63e7328-33f1-40f0-9935-fd84334dbf4a"
      },
      "source": [
        "# Q7 showing the digits of index 500 \n",
        "train_images[500]\n"
      ],
      "execution_count": null,
      "outputs": [
        {
          "output_type": "execute_result",
          "data": {
            "text/plain": [
              "array([[  0,   0,   0,   0,   0,   0,   0,   3,   0,   0,   0,  19, 204,\n",
              "         93,  35,  91, 227,  91,   0,   0,   0,   3,   0,   0,   0,   0,\n",
              "          0,   0],\n",
              "       [  0,   0,   0,   0,   0,   0,   2,   0,   0, 134, 210, 237, 241,\n",
              "        241, 255, 245, 238, 241, 248, 111,   0,   0,   3,   0,   0,   0,\n",
              "          0,   0],\n",
              "       [  0,   0,   0,   0,   0,   0,   0,   0, 175, 254, 235, 233, 232,\n",
              "        225, 227, 226, 229, 231, 236, 250, 200,   0,   0,   0,   0,   0,\n",
              "          0,   0],\n",
              "       [  0,   0,   0,   0,   0,   0,   0,   2, 240, 229, 228, 219, 215,\n",
              "        235, 229, 234, 217, 198, 222, 220, 255, 101,   0,   0,   0,   0,\n",
              "          0,   0],\n",
              "       [  0,   0,   0,   0,   0,   0,   0,  46, 246, 236, 189, 173, 212,\n",
              "        240, 226, 239, 210, 152, 177, 222, 249, 170,   0,   0,   0,   0,\n",
              "          0,   0],\n",
              "       [  0,   0,   0,   0,   0,   0,   0,  97, 255, 233, 226, 231, 237,\n",
              "        230, 231, 231, 236, 241, 232, 231, 245, 210,   0,   0,   0,   0,\n",
              "          0,   0],\n",
              "       [  0,   0,   0,   0,   0,   0,   0, 150, 252, 234, 239, 232, 228,\n",
              "        228, 229, 228, 228, 233, 242, 236, 243, 233,   0,   0,   0,   0,\n",
              "          0,   0],\n",
              "       [  0,   0,   0,   0,   0,   0,   0, 195, 249, 234, 243, 234, 232,\n",
              "        231, 230, 230, 229, 234, 242, 227, 239, 219,   0,   0,   0,   0,\n",
              "          0,   0],\n",
              "       [  0,   0,   0,   0,   0,   0,   0, 228, 248, 220, 229, 246, 230,\n",
              "        231, 231, 231, 229, 244, 231, 163, 243, 238,   0,   0,   0,   0,\n",
              "          0,   0],\n",
              "       [  0,   0,   0,   0,   0,   0,   0, 224, 245, 207, 184, 253, 227,\n",
              "        228, 229, 230, 226, 255, 193, 116, 247, 241,  47,   0,   0,   0,\n",
              "          0,   0],\n",
              "       [  0,   0,   0,   0,   0,   0,  19, 240, 247, 189, 146, 255, 227,\n",
              "        231, 231, 232, 227, 255, 178, 114, 250, 243, 103,   0,   0,   0,\n",
              "          0,   0],\n",
              "       [  0,   0,   0,   0,   0,   0,  61, 243, 246, 173, 132, 255, 224,\n",
              "        228, 231, 232, 224, 255, 156,  80, 255, 245, 134,   0,   0,   0,\n",
              "          0,   0],\n",
              "       [  0,   0,   0,   0,   0,   0, 107, 247, 245, 175, 190, 254, 229,\n",
              "        230, 225, 226, 228, 255, 204, 121, 255, 243, 158,   0,   0,   0,\n",
              "          0,   0],\n",
              "       [  0,   0,   0,   0,   0,   0, 141, 248, 241, 214, 229, 240, 236,\n",
              "        237, 235, 236, 236, 255, 218, 123, 255, 249, 181,   0,   0,   0,\n",
              "          0,   0],\n",
              "       [  0,   0,   0,   0,   0,   0, 167, 255, 243, 243, 236, 235, 235,\n",
              "        231, 234, 235, 231, 232, 236, 195, 255, 251, 185,   0,   0,   0,\n",
              "          0,   0],\n",
              "       [  0,   0,   0,   0,   0,   0, 186, 254, 247, 238, 228, 225, 228,\n",
              "        228, 229, 231, 228, 223, 231, 255, 252, 248, 200,   0,   0,   0,\n",
              "          0,   0],\n",
              "       [  0,   0,   0,   0,   0,   0, 206, 251, 252, 234, 229, 227, 229,\n",
              "        230, 230, 232, 231, 227, 227, 239, 251, 247, 210,   0,   0,   0,\n",
              "          0,   0],\n",
              "       [  0,   0,   0,   0,   0,   0, 218, 248, 254, 233, 232, 232, 233,\n",
              "        233, 233, 235, 233, 233, 235, 240, 252, 251, 211,   0,   0,   0,\n",
              "          0,   0],\n",
              "       [  0,   0,   0,   0,   0,   0, 224, 245, 252, 236, 238, 236, 238,\n",
              "        238, 238, 239, 238, 238, 237, 236, 250, 251, 222,   0,   0,   0,\n",
              "          0,   0],\n",
              "       [  0,   0,   0,   0,   0,   0, 225, 240, 244, 234, 229, 230, 232,\n",
              "        232, 230, 230, 231, 230, 232, 235, 245, 241, 226,   0,   0,   0,\n",
              "          0,   0],\n",
              "       [  0,   0,   0,   0,   0,   0, 238, 255, 248, 234, 236, 236, 237,\n",
              "        237, 236, 236, 236, 234, 235, 237, 252, 255, 233,   0,   0,   0,\n",
              "          0,   0],\n",
              "       [  0,   0,   0,   0,   0,   0,  56,  32, 158, 248, 228, 236, 237,\n",
              "        237, 237, 237, 237, 236, 231, 248, 140,  40,  31,   0,   0,   0,\n",
              "          0,   0],\n",
              "       [  0,   0,   0,   0,   0,   0,   0,   0, 138, 254, 229, 235, 234,\n",
              "        234, 235, 235, 236, 235, 232, 255,  98,   0,   0,   0,   0,   0,\n",
              "          0,   0],\n",
              "       [  0,   0,   0,   0,   0,   0,   4,   0, 178, 255, 235, 241, 239,\n",
              "        240, 241, 241, 241, 238, 233, 255, 139,   0,   5,   0,   0,   0,\n",
              "          0,   0],\n",
              "       [  0,   0,   0,   0,   0,   0,   0,   0, 180, 254, 233, 237, 237,\n",
              "        237, 238, 239, 239, 236, 233, 255, 142,   0,   2,   0,   0,   0,\n",
              "          0,   0],\n",
              "       [  0,   0,   0,   0,   0,   0,   0,   0, 178, 254, 229, 232, 232,\n",
              "        233, 236, 236, 234, 233, 230, 255, 149,   0,   4,   0,   0,   0,\n",
              "          0,   0],\n",
              "       [  0,   0,   0,   0,   0,   0,   1,   0, 179, 255, 234, 247, 237,\n",
              "        235, 237, 241, 240, 244, 237, 255, 176,   0,   2,   0,   0,   0,\n",
              "          0,   0],\n",
              "       [  0,   0,   0,   0,   0,   0,   0,   0, 155, 238, 200, 184, 215,\n",
              "        221, 211, 216, 215, 216, 191, 207, 153,   0,   0,   0,   0,   0,\n",
              "          0,   0]], dtype=uint8)"
            ]
          },
          "metadata": {
            "tags": []
          },
          "execution_count": 16
        }
      ]
    },
    {
      "cell_type": "code",
      "metadata": {
        "colab": {
          "base_uri": "https://localhost:8080/",
          "height": 265
        },
        "id": "TCZHD0SozX5p",
        "outputId": "7dec279e-4805-4e98-a650-29a04bda03a6"
      },
      "source": [
        "# Q8  showing image\n",
        "plt.imshow(train_images[500],cmap=plt.cm.binary)\n",
        "plt.show()"
      ],
      "execution_count": null,
      "outputs": [
        {
          "output_type": "display_data",
          "data": {
            "image/png": "[encoded data removed]",
            "text/plain": [
              "<Figure size 432x288 with 1 Axes>"
            ]
          },
          "metadata": {
            "tags": [],
            "needs_background": "light"
          }
        }
      ]
    },
    {
      "cell_type": "code",
      "metadata": {
        "colab": {
          "base_uri": "https://localhost:8080/",
          "height": 279
        },
        "id": "HVHRQ9Gzzga_",
        "outputId": "92c44f53-923b-495b-8f60-4f273aa9f15d"
      },
      "source": [
        "# Q9 now we are adding the label to the image\n",
        "plt.imshow(train_images[500],cmap=plt.cm.binary)\n",
        "plt.xlabel(class_names[train_labels[500]])\n",
        "plt.show()"
      ],
      "execution_count": null,
      "outputs": [
        {
          "output_type": "display_data",
          "data": {
            "image/png": "[encoded data removed]",
            "text/plain": [
              "<Figure size 432x288 with 1 Axes>"
            ]
          },
          "metadata": {
            "tags": [],
            "needs_background": "light"
          }
        }
      ]
    },
    {
      "cell_type": "code",
      "metadata": {
        "id": "jaOEafOIzr4M"
      },
      "source": [
        "# Q10\n",
        "import tensorflow as tf \n",
        "from keras import models\n",
        "from keras import layers"
      ],
      "execution_count": 7,
      "outputs": []
    },
    {
      "cell_type": "code",
      "metadata": {
        "id": "-rTxl5wI4enk"
      },
      "source": [
        "# Q11 defining the swquential as myNetwork\n",
        "MyNetwork = tf.keras.models.Sequential()"
      ],
      "execution_count": 8,
      "outputs": []
    },
    {
      "cell_type": "code",
      "metadata": {
        "id": "Y-HHzh32Vg1t"
      },
      "source": [
        "# Q12 making it one colunm. \n",
        "# method from book \n",
        "train_images = train_images.reshape((60000, 28 * 28))\n"
      ],
      "execution_count": 9,
      "outputs": []
    },
    {
      "cell_type": "code",
      "metadata": {
        "id": "wIU18RV2vUxQ"
      },
      "source": [
        "# Q12 making one colunm\n",
        "test_images = test_images.reshape((10000, 28 * 28))\n"
      ],
      "execution_count": 10,
      "outputs": []
    },
    {
      "cell_type": "code",
      "metadata": {
        "id": "7MbuKBqjykxZ"
      },
      "source": [
        "#Q12 Method from youtube video\n",
        "MyNetwork.add(layers.Flatten())"
      ],
      "execution_count": 11,
      "outputs": []
    },
    {
      "cell_type": "code",
      "metadata": {
        "id": "EA8tNoBIyk8c"
      },
      "source": [
        "# Q13 Normalizing the image for youtube video\n",
        "train_images = tf.keras.utils.normalize(train_images, axis = 1)"
      ],
      "execution_count": 12,
      "outputs": []
    },
    {
      "cell_type": "code",
      "metadata": {
        "id": "TS-rozyaylSv"
      },
      "source": [
        "test_images = tf.keras.utils.normalize(test_images, axis= 1)"
      ],
      "execution_count": 13,
      "outputs": []
    },
    {
      "cell_type": "code",
      "metadata": {
        "id": "ihT9TQsWy_B7"
      },
      "source": [
        "# Q13 normalizing the image to zero to one using book\n",
        "train_images = train_images.astype('float32') / 255"
      ],
      "execution_count": 14,
      "outputs": []
    },
    {
      "cell_type": "code",
      "metadata": {
        "id": "Uw7MWr8Z6lvy"
      },
      "source": [
        "test_images = test_images.astype('float32') / 255"
      ],
      "execution_count": 16,
      "outputs": []
    },
    {
      "cell_type": "code",
      "metadata": {
        "id": "PnAgh4zD7JFs"
      },
      "source": [
        "# Q14 adding hidden layer \n",
        "MyNetwork.add(layers.Dense(512, activation='relu'))"
      ],
      "execution_count": 18,
      "outputs": []
    },
    {
      "cell_type": "code",
      "metadata": {
        "id": "l3LmE9kzHnsn"
      },
      "source": [
        "# Q15 adding hidden layer \n",
        "MyNetwork.add(layers.Dense(128, activation='relu'))"
      ],
      "execution_count": 19,
      "outputs": []
    },
    {
      "cell_type": "code",
      "metadata": {
        "id": "aE_JBsZPH2mi"
      },
      "source": [
        "# Q16 out put layer \n",
        "MyNetwork.add(layers.Dense(10, activation='softmax'))\n",
        "\n",
        "# we use softmax for the out put layer cuz of probablities of distrubution "
      ],
      "execution_count": 20,
      "outputs": []
    },
    {
      "cell_type": "code",
      "metadata": {
        "id": "73oYhqQmIriK"
      },
      "source": [
        "# Q17 compiler A \n",
        "MyNetwork.compile(optimizer='Adam',loss= 'categorical_crossentropy', metrics=['accuracy'])"
      ],
      "execution_count": 21,
      "outputs": []
    },
    {
      "cell_type": "code",
      "metadata": {
        "id": "UiJHI1pmKcrF"
      },
      "source": [
        "# Q17 compiler B \n",
        "#MyNetwork.compile(optimizer='ramsprop',loss= 'catagorical_crossentropy', metrics=['accuracy'])"
      ],
      "execution_count": null,
      "outputs": []
    },
    {
      "cell_type": "code",
      "metadata": {
        "colab": {
          "base_uri": "https://localhost:8080/"
        },
        "id": "upQksPp5KqIV",
        "outputId": "8754ff73-8025-44f3-93ed-453258f770f1"
      },
      "source": [
        "# Q18\n",
        "MyNetwork.fit(train_images,train_labels,batch_size=128,epochs=10)"
      ],
      "execution_count": 23,
      "outputs": [
        {
          "output_type": "stream",
          "text": [
            "Epoch 1/10\n",
            "469/469 [==============================] - 5s 9ms/step - loss: 1.7064 - accuracy: 0.3325\n",
            "Epoch 2/10\n",
            "469/469 [==============================] - 4s 9ms/step - loss: 1.1451 - accuracy: 0.5208\n",
            "Epoch 3/10\n",
            "469/469 [==============================] - 4s 9ms/step - loss: 1.0290 - accuracy: 0.5925\n",
            "Epoch 4/10\n",
            "469/469 [==============================] - 4s 9ms/step - loss: 0.8968 - accuracy: 0.6645\n",
            "Epoch 5/10\n",
            "469/469 [==============================] - 4s 9ms/step - loss: 0.7950 - accuracy: 0.7034\n",
            "Epoch 6/10\n",
            "469/469 [==============================] - 4s 9ms/step - loss: 0.7257 - accuracy: 0.7305\n",
            "Epoch 7/10\n",
            "469/469 [==============================] - 4s 9ms/step - loss: 0.6751 - accuracy: 0.7454\n",
            "Epoch 8/10\n",
            "469/469 [==============================] - 4s 9ms/step - loss: 0.6429 - accuracy: 0.7570\n",
            "Epoch 9/10\n",
            "469/469 [==============================] - 4s 9ms/step - loss: 0.6193 - accuracy: 0.7667\n",
            "Epoch 10/10\n",
            "469/469 [==============================] - 4s 9ms/step - loss: 0.6014 - accuracy: 0.7756\n"
          ],
          "name": "stdout"
        },
        {
          "output_type": "execute_result",
          "data": {
            "text/plain": [
              "<tensorflow.python.keras.callbacks.History at 0x7ff5d41e6780>"
            ]
          },
          "metadata": {
            "tags": []
          },
          "execution_count": 23
        }
      ]
    },
    {
      "cell_type": "code",
      "metadata": {
        "id": "pQ7BRyoc_ffM"
      },
      "source": [
        "# Q19\n",
        "\n",
        "# in fashion mnist even tho I used 10 epochs it give me lower accuracy. \n",
        "\n",
        "# also fashion mnist is not great as hand write digits because clothes can have 1000 or mollions of different design.\n",
        "# other than hand digit is jsut 10 number and it is hard to write is so different. "
      ],
      "execution_count": null,
      "outputs": []
    },
    {
      "cell_type": "code",
      "metadata": {
        "id": "WeLLAf0CLqqc",
        "colab": {
          "base_uri": "https://localhost:8080/"
        },
        "outputId": "c8bb9833-7ba2-4134-8184-dfe1e98c8188"
      },
      "source": [
        "#Q20 printing the accuracy and loss \n",
        "\n",
        "# we should expect that our accuracy and loss will be differnet that sample data \n",
        "val_loss, val_acc = MyNetwork.evaluate(test_images,test_labels)\n",
        "print(val_loss, val_acc)"
      ],
      "execution_count": 24,
      "outputs": [
        {
          "output_type": "stream",
          "text": [
            "313/313 [==============================] - 1s 2ms/step - loss: 6.3385 - accuracy: 0.1000\n",
            "6.338466644287109 0.10000000149011612\n"
          ],
          "name": "stdout"
        }
      ]
    },
    {
      "cell_type": "code",
      "metadata": {
        "id": "FSK_a2XG8hWS"
      },
      "source": [
        ""
      ],
      "execution_count": null,
      "outputs": []
    }
  ]
}